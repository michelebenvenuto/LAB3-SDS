{
 "cells": [
  {
   "cell_type": "code",
   "execution_count": 1,
   "id": "d87ce4e4",
   "metadata": {},
   "outputs": [],
   "source": [
    "import pefile\n",
    "import os\n",
    "import re\n",
    "import magic\n",
    "import pandas as pd\n",
    "import numpy as np\n",
    "import matplotlib.pyplot as plt\n",
    "from sklearn.cluster import KMeans\n",
    "from sklearn.preprocessing import StandardScaler"
   ]
  },
  {
   "cell_type": "markdown",
   "id": "660a2c71",
   "metadata": {},
   "source": [
    "## Generando Data set"
   ]
  },
  {
   "cell_type": "code",
   "execution_count": 66,
   "id": "9689120e",
   "metadata": {
    "scrolled": true
   },
   "outputs": [
    {
     "name": "stdout",
     "output_type": "stream",
     "text": [
      "['POL55_A4F1ECC4D25B33395196B5D51A06790', 'KLp90_6D5C8FC4B14559F73B6136D85B94198', '8442AE37B91F279A9F06DE4C60B286A3', '65018CD542145A3792BA09985734C12A', 'PL98_BD8B082B7711BC980252F988BB0CA936', '650A6FCA433EE243391E4B4C11F09438', 'DS22_A670D13D4D014169C4080328B8FEB86', 'NV99_C9C9DBF388A8D81D8CFB4D3FC05F8E4', 'FGTR43_EF8E0FB20E7228C7492CCDC59D87C690', 'EEE99EC8AA67B05407C01094184C33D2B5A44', 'BVJ2D9FBF759F527AF373E34673DC3ACA462', 'FTTR9EA3C16194CE354C244C1B74C46CD92E', 'B98hX8E8622C393D7E832D39E620EAD5D3B49', 'SAM_B659D71AE168E774FAAF38DB30F4A84', 'B07322743778B5868475DBE66EEDAC4F', '6FAA4740F99408D4D2DDDD0B09BBDEFD', 'QW2_4C6BDDCCA2695D6202DF38708E14FC7E', '33DE5067A433A6EC5C328067DC18EC37', '1F2EB7B090018D975E6D9B40868C94CA', '99A39866A657A10949FCB6D634BB30D5', 'GFT4_7DDD3D72EAD03C7518F5D47650C8572', 'VC990_468FF2C12CFFC7E5B2FE0EE6BB3B239E', 'F6655E39465C2FF5B016980D918EA028', 'HJGQDD892986B2249B5214639ECC8AC0223', 'RTC_7F85D7F628CE62D1D8F7B39D8940472', 'TG78Z__727A6800991EEAD454E53E8AF164A99C', 'AAAz2E1B6940985A23E5639450F8391820655', 'F8437E44748D2C3FCF84019766F4E6DC', 'GBV66_8F259BB36E00D124963CFA9B86F502E', 'JH78C0A33A1B472A8C16123FD696A5CE5EBB', 'A316D5AECA269CA865077E7FFF356E7D', 'NBV_8B75BCBFF174C25A0161F30758509A44', '785003A405BC7A4EBCBB21DDB757BF3F', 'JKK8CA6FE7A1315AF5AFEAC2961460A80569', 'K99_C3A9A7B026BFE0E55FF219FD6AA7D94', 'FHHH6576C196385407B0F7F4B1B537D88983', 'AL65_DB05DF0498B59B42A8E493CF3C10C578', 'VBMM9_149B7BD7218AAB4E257D28469FDDB0D', 'FGJKJJ1_2BA0D0083976A5C1E3315413CDCFFCD2', 'L11_1415EB8519D13328091CC5C76A624E3D']\n"
     ]
    }
   ],
   "source": [
    "path = \"MALWR\"\n",
    "files = os.listdir(path)\n",
    "print(files)"
   ]
  },
  {
   "cell_type": "code",
   "execution_count": 67,
   "id": "082595c6",
   "metadata": {
    "scrolled": false
   },
   "outputs": [],
   "source": [
    "class PEFile:\n",
    "    #Esta calse servira para guardar informacion interesante de los archivos\n",
    "    \n",
    "    def __init__(self, filename):\n",
    "\n",
    "        self.pe = pefile.PE(filename, fast_load=True)\n",
    "        \n",
    "        self.filename = filename      \n",
    "        self.DebugSize = self.pe.OPTIONAL_HEADER.DATA_DIRECTORY[6].Size\n",
    "        self.DebugRVA = self.pe.OPTIONAL_HEADER.DATA_DIRECTORY[6].VirtualAddress\n",
    "        self.ImageVersion = self.pe.OPTIONAL_HEADER.MajorImageVersion\n",
    "        self.OSVersion = self.pe.OPTIONAL_HEADER.MajorOperatingSystemVersion\n",
    "        self.ExportRVA = self.pe.OPTIONAL_HEADER.DATA_DIRECTORY[0].VirtualAddress\n",
    "        self.ExportSize = self.pe.OPTIONAL_HEADER.DATA_DIRECTORY[0].Size\n",
    "        self.IATRVA = self.pe.OPTIONAL_HEADER.DATA_DIRECTORY[12].VirtualAddress\n",
    "        self.ResSize = self.pe.OPTIONAL_HEADER.DATA_DIRECTORY[2].Size\n",
    "        self.LinkerVersion = self.pe.OPTIONAL_HEADER.MajorLinkerVersion\n",
    "        self.NumberOfSections = self.pe.FILE_HEADER.NumberOfSections\n",
    "        self.StackReserveSize = self.pe.OPTIONAL_HEADER.SizeOfStackReserve\n",
    "        self.Dll = self.pe.OPTIONAL_HEADER.DllCharacteristics\n",
    "        self.AddressOfEntryPoint = self.pe.OPTIONAL_HEADER.AddressOfEntryPoint\n",
    "        self.ImageBase = self.pe.OPTIONAL_HEADER.ImageBase\n",
    "        \n",
    "        # If the PE file was loaded using the fast_load=True argument, we will need to parse the data directories:\n",
    "        self.pe.parse_data_directories()\n",
    "        imported_dll = {}\n",
    "        number_dll = 0\n",
    "        try:\n",
    "            for entry in self.pe.DIRECTORY_ENTRY_IMPORT:\n",
    "                if entry is not None:\n",
    "                    number_dll += 1\n",
    "                    for imp in entry.imports:\n",
    "                        if imp.name is not None:\n",
    "                            imported_dll[entry.dll.decode()] = imp.name.decode()\n",
    "        except:\n",
    "            pass\n",
    "                        \n",
    "        self.ImportedDLL = imported_dll\n",
    "        self.NumberOfImportDLL = number_dll\n",
    "        \n",
    "        section_names = {}\n",
    "        number_sections = 0\n",
    "        try:\n",
    "            for section in self.pe.sections:\n",
    "                number_sections += 1\n",
    "                section_names[section.Name.decode()] = section.SizeOfRawData\n",
    "            self.SectionNames = section_names\n",
    "            self.NumberOfSections = number_sections\n",
    "        except:\n",
    "            pass\n",
    "            \n",
    "        number_import_functions = 0\n",
    "        import_function = []\n",
    "        \n",
    "        try:\n",
    "            if self.pe.OPTIONAL_HEADER.DATA_DIRECTORY[pefile.DIRECTORY_ENTRY['IMAGE_DIRECTORY_ENTRY_IMPORT']].VirtualAddress != 0:\n",
    "                self.pe.parse_data_directories(directories=[pefile.DIRECTORY_ENTRY['IMAGE_DIRECTORY_ENTRY_IMPORT']])\n",
    "                for entry in self.pe.DIRECTORY_ENTRY_IMPORT:\n",
    "                    for imp in entry.imports:\n",
    "                        if imp.name:\n",
    "                            number_import_functions += 1\n",
    "                            import_function.append(imp.name.decode())\n",
    "        except:\n",
    "            pass\n",
    "            \n",
    "        self.NumberOfImportFunctions = number_import_functions\n",
    "        self.ImportedFunctions = import_function\n",
    "        \n",
    "    def Construct(self):\n",
    "        sample = {}\n",
    "\n",
    "        for attr, k in self.__dict__.items():\n",
    "            if(attr != \"pe\"):\n",
    "                sample[attr] = k\n",
    "        return sample\n",
    "    "
   ]
  },
  {
   "cell_type": "code",
   "execution_count": 68,
   "id": "90e80092",
   "metadata": {},
   "outputs": [],
   "source": [
    "def pe2vec(directory):\n",
    "    \"\"\"\n",
    "    dirty function (handling all exceptions) for each sample\n",
    "    it construct a dictionary of dictionaries in the format:\n",
    "    sample x : pe informations\n",
    "    \"\"\"\n",
    "    dataset = {}\n",
    "    print(\"\")\n",
    "    print(\"[*] Extracting the PE file data: \")\n",
    "    print(\"\")\n",
    "    for subdir, dirs, files in os.walk(directory):\n",
    "        for f in files:\n",
    "            file_path = os.path.join(subdir, f)\n",
    "            \n",
    "            if re.match('^PE.*', magic.from_file(file_path)):\n",
    "                try:\n",
    "                    pe = PEFile(file_path)\n",
    "                    dataset[str(f)] = pe.Construct()\n",
    "                except Exception as e:\n",
    "                    raise\n",
    "            else:\n",
    "                os.remove(file_path)\n",
    "    return dataset"
   ]
  },
  {
   "cell_type": "code",
   "execution_count": 69,
   "id": "2470b127",
   "metadata": {},
   "outputs": [
    {
     "name": "stdout",
     "output_type": "stream",
     "text": [
      "\n",
      "[*] Extracting the PE file data: \n",
      "\n"
     ]
    }
   ],
   "source": [
    "dsmalware = {}\n",
    "dsmalware = pe2vec(path)"
   ]
  },
  {
   "cell_type": "code",
   "execution_count": 70,
   "id": "4bcc4809",
   "metadata": {},
   "outputs": [],
   "source": [
    "def vec2csv(dataset, output_file):\n",
    "    df = pd.DataFrame(dataset)\n",
    "    test_data = df.transpose() \n",
    "    test_data.to_csv(output_file,sep=',', encoding='utf-8')\n",
    "    print(\"\")\n",
    "    print(\"[+] Saving file to: \" + output_file)\n",
    "    print(\"\")\n",
    "        "
   ]
  },
  {
   "cell_type": "code",
   "execution_count": 71,
   "id": "4bd72d08",
   "metadata": {
    "scrolled": true
   },
   "outputs": [
    {
     "name": "stdout",
     "output_type": "stream",
     "text": [
      "\n",
      "[+] Saving file to: ./malware.csv\n",
      "\n"
     ]
    }
   ],
   "source": [
    "output= \"./malware.csv\"\n",
    "vec2csv(dsmalware, output)"
   ]
  },
  {
   "cell_type": "markdown",
   "id": "7f5cbe79",
   "metadata": {},
   "source": [
    "## EDA"
   ]
  },
  {
   "cell_type": "code",
   "execution_count": 2,
   "id": "056bf6d0",
   "metadata": {},
   "outputs": [],
   "source": [
    "df = pd.read_csv(\"./malware.csv\")"
   ]
  },
  {
   "cell_type": "code",
   "execution_count": 3,
   "id": "01c2fa22",
   "metadata": {},
   "outputs": [
    {
     "data": {
      "text/plain": [
       "(40, 21)"
      ]
     },
     "execution_count": 3,
     "metadata": {},
     "output_type": "execute_result"
    }
   ],
   "source": [
    "df.shape"
   ]
  },
  {
   "cell_type": "code",
   "execution_count": 4,
   "id": "30c5df29",
   "metadata": {},
   "outputs": [
    {
     "data": {
      "text/html": [
       "<div>\n",
       "<style scoped>\n",
       "    .dataframe tbody tr th:only-of-type {\n",
       "        vertical-align: middle;\n",
       "    }\n",
       "\n",
       "    .dataframe tbody tr th {\n",
       "        vertical-align: top;\n",
       "    }\n",
       "\n",
       "    .dataframe thead th {\n",
       "        text-align: right;\n",
       "    }\n",
       "</style>\n",
       "<table border=\"1\" class=\"dataframe\">\n",
       "  <thead>\n",
       "    <tr style=\"text-align: right;\">\n",
       "      <th></th>\n",
       "      <th>Unnamed: 0</th>\n",
       "      <th>filename</th>\n",
       "      <th>DebugSize</th>\n",
       "      <th>DebugRVA</th>\n",
       "      <th>ImageVersion</th>\n",
       "      <th>OSVersion</th>\n",
       "      <th>ExportRVA</th>\n",
       "      <th>ExportSize</th>\n",
       "      <th>IATRVA</th>\n",
       "      <th>ResSize</th>\n",
       "      <th>...</th>\n",
       "      <th>NumberOfSections</th>\n",
       "      <th>StackReserveSize</th>\n",
       "      <th>Dll</th>\n",
       "      <th>AddressOfEntryPoint</th>\n",
       "      <th>ImageBase</th>\n",
       "      <th>ImportedDLL</th>\n",
       "      <th>NumberOfImportDLL</th>\n",
       "      <th>SectionNames</th>\n",
       "      <th>NumberOfImportFunctions</th>\n",
       "      <th>ImportedFunctions</th>\n",
       "    </tr>\n",
       "  </thead>\n",
       "  <tbody>\n",
       "    <tr>\n",
       "      <th>0</th>\n",
       "      <td>POL55_A4F1ECC4D25B33395196B5D51A06790</td>\n",
       "      <td>MALWR/POL55_A4F1ECC4D25B33395196B5D51A06790</td>\n",
       "      <td>0</td>\n",
       "      <td>0</td>\n",
       "      <td>0</td>\n",
       "      <td>4</td>\n",
       "      <td>0</td>\n",
       "      <td>0</td>\n",
       "      <td>16384</td>\n",
       "      <td>0</td>\n",
       "      <td>...</td>\n",
       "      <td>3</td>\n",
       "      <td>1048576</td>\n",
       "      <td>0</td>\n",
       "      <td>3422617582</td>\n",
       "      <td>4194304</td>\n",
       "      <td>{'KERNEL32.dll': 'CloseHandle', 'USER32.dll': ...</td>\n",
       "      <td>7</td>\n",
       "      <td>{'.text\\x00\\x00\\x00': 9728, '.rdata\\x00\\x00': ...</td>\n",
       "      <td>85</td>\n",
       "      <td>['CreateFileA', 'LocalAlloc', 'Sleep', 'Create...</td>\n",
       "    </tr>\n",
       "    <tr>\n",
       "      <th>1</th>\n",
       "      <td>KLp90_6D5C8FC4B14559F73B6136D85B94198</td>\n",
       "      <td>MALWR/KLp90_6D5C8FC4B14559F73B6136D85B94198</td>\n",
       "      <td>0</td>\n",
       "      <td>0</td>\n",
       "      <td>0</td>\n",
       "      <td>4</td>\n",
       "      <td>0</td>\n",
       "      <td>0</td>\n",
       "      <td>16384</td>\n",
       "      <td>0</td>\n",
       "      <td>...</td>\n",
       "      <td>3</td>\n",
       "      <td>1048576</td>\n",
       "      <td>0</td>\n",
       "      <td>3422617582</td>\n",
       "      <td>4194304</td>\n",
       "      <td>{'KERNEL32.dll': 'CloseHandle', 'USER32.dll': ...</td>\n",
       "      <td>7</td>\n",
       "      <td>{'.text\\x00\\x00\\x00': 9728, '.rdata\\x00\\x00': ...</td>\n",
       "      <td>85</td>\n",
       "      <td>['CreateFileA', 'LocalAlloc', 'Sleep', 'Create...</td>\n",
       "    </tr>\n",
       "    <tr>\n",
       "      <th>2</th>\n",
       "      <td>8442AE37B91F279A9F06DE4C60B286A3</td>\n",
       "      <td>MALWR/8442AE37B91F279A9F06DE4C60B286A3</td>\n",
       "      <td>0</td>\n",
       "      <td>0</td>\n",
       "      <td>0</td>\n",
       "      <td>4</td>\n",
       "      <td>0</td>\n",
       "      <td>0</td>\n",
       "      <td>0</td>\n",
       "      <td>88</td>\n",
       "      <td>...</td>\n",
       "      <td>3</td>\n",
       "      <td>1048576</td>\n",
       "      <td>0</td>\n",
       "      <td>27632</td>\n",
       "      <td>4194304</td>\n",
       "      <td>{'KERNEL32.DLL': 'VirtualProtect', 'MSVCRT.dll...</td>\n",
       "      <td>4</td>\n",
       "      <td>{'UPX0\\x00\\x00\\x00\\x00': 0, 'UPX1\\x00\\x00\\x00\\...</td>\n",
       "      <td>7</td>\n",
       "      <td>['LoadLibraryA', 'ExitProcess', 'GetProcAddres...</td>\n",
       "    </tr>\n",
       "    <tr>\n",
       "      <th>3</th>\n",
       "      <td>65018CD542145A3792BA09985734C12A</td>\n",
       "      <td>MALWR/65018CD542145A3792BA09985734C12A</td>\n",
       "      <td>0</td>\n",
       "      <td>0</td>\n",
       "      <td>0</td>\n",
       "      <td>4</td>\n",
       "      <td>0</td>\n",
       "      <td>0</td>\n",
       "      <td>0</td>\n",
       "      <td>88</td>\n",
       "      <td>...</td>\n",
       "      <td>3</td>\n",
       "      <td>1048576</td>\n",
       "      <td>0</td>\n",
       "      <td>28048</td>\n",
       "      <td>4194304</td>\n",
       "      <td>{'KERNEL32.DLL': 'VirtualProtect', 'MSVCRT.dll...</td>\n",
       "      <td>5</td>\n",
       "      <td>{'UPX0\\x00\\x00\\x00\\x00': 0, 'UPX1\\x00\\x00\\x00\\...</td>\n",
       "      <td>8</td>\n",
       "      <td>['LoadLibraryA', 'ExitProcess', 'GetProcAddres...</td>\n",
       "    </tr>\n",
       "    <tr>\n",
       "      <th>4</th>\n",
       "      <td>PL98_BD8B082B7711BC980252F988BB0CA936</td>\n",
       "      <td>MALWR/PL98_BD8B082B7711BC980252F988BB0CA936</td>\n",
       "      <td>0</td>\n",
       "      <td>0</td>\n",
       "      <td>0</td>\n",
       "      <td>4</td>\n",
       "      <td>807356</td>\n",
       "      <td>176</td>\n",
       "      <td>0</td>\n",
       "      <td>0</td>\n",
       "      <td>...</td>\n",
       "      <td>3</td>\n",
       "      <td>1048576</td>\n",
       "      <td>0</td>\n",
       "      <td>804624</td>\n",
       "      <td>268435456</td>\n",
       "      <td>{'ADVAPI32.dll': 'RegSaveKeyA', 'GDI32.dll': '...</td>\n",
       "      <td>8</td>\n",
       "      <td>{'UPX0\\x00\\x00\\x00\\x00': 0, 'UPX1\\x00\\x00\\x00\\...</td>\n",
       "      <td>10</td>\n",
       "      <td>['RegSaveKeyA', 'BitBlt', 'LoadLibraryA', 'Get...</td>\n",
       "    </tr>\n",
       "  </tbody>\n",
       "</table>\n",
       "<p>5 rows × 21 columns</p>\n",
       "</div>"
      ],
      "text/plain": [
       "                              Unnamed: 0  \\\n",
       "0  POL55_A4F1ECC4D25B33395196B5D51A06790   \n",
       "1  KLp90_6D5C8FC4B14559F73B6136D85B94198   \n",
       "2       8442AE37B91F279A9F06DE4C60B286A3   \n",
       "3       65018CD542145A3792BA09985734C12A   \n",
       "4  PL98_BD8B082B7711BC980252F988BB0CA936   \n",
       "\n",
       "                                      filename  DebugSize  DebugRVA  \\\n",
       "0  MALWR/POL55_A4F1ECC4D25B33395196B5D51A06790          0         0   \n",
       "1  MALWR/KLp90_6D5C8FC4B14559F73B6136D85B94198          0         0   \n",
       "2       MALWR/8442AE37B91F279A9F06DE4C60B286A3          0         0   \n",
       "3       MALWR/65018CD542145A3792BA09985734C12A          0         0   \n",
       "4  MALWR/PL98_BD8B082B7711BC980252F988BB0CA936          0         0   \n",
       "\n",
       "   ImageVersion  OSVersion  ExportRVA  ExportSize  IATRVA  ResSize  ...  \\\n",
       "0             0          4          0           0   16384        0  ...   \n",
       "1             0          4          0           0   16384        0  ...   \n",
       "2             0          4          0           0       0       88  ...   \n",
       "3             0          4          0           0       0       88  ...   \n",
       "4             0          4     807356         176       0        0  ...   \n",
       "\n",
       "   NumberOfSections  StackReserveSize  Dll  AddressOfEntryPoint  ImageBase  \\\n",
       "0                 3           1048576    0           3422617582    4194304   \n",
       "1                 3           1048576    0           3422617582    4194304   \n",
       "2                 3           1048576    0                27632    4194304   \n",
       "3                 3           1048576    0                28048    4194304   \n",
       "4                 3           1048576    0               804624  268435456   \n",
       "\n",
       "                                         ImportedDLL NumberOfImportDLL  \\\n",
       "0  {'KERNEL32.dll': 'CloseHandle', 'USER32.dll': ...                 7   \n",
       "1  {'KERNEL32.dll': 'CloseHandle', 'USER32.dll': ...                 7   \n",
       "2  {'KERNEL32.DLL': 'VirtualProtect', 'MSVCRT.dll...                 4   \n",
       "3  {'KERNEL32.DLL': 'VirtualProtect', 'MSVCRT.dll...                 5   \n",
       "4  {'ADVAPI32.dll': 'RegSaveKeyA', 'GDI32.dll': '...                 8   \n",
       "\n",
       "                                        SectionNames NumberOfImportFunctions  \\\n",
       "0  {'.text\\x00\\x00\\x00': 9728, '.rdata\\x00\\x00': ...                      85   \n",
       "1  {'.text\\x00\\x00\\x00': 9728, '.rdata\\x00\\x00': ...                      85   \n",
       "2  {'UPX0\\x00\\x00\\x00\\x00': 0, 'UPX1\\x00\\x00\\x00\\...                       7   \n",
       "3  {'UPX0\\x00\\x00\\x00\\x00': 0, 'UPX1\\x00\\x00\\x00\\...                       8   \n",
       "4  {'UPX0\\x00\\x00\\x00\\x00': 0, 'UPX1\\x00\\x00\\x00\\...                      10   \n",
       "\n",
       "                                   ImportedFunctions  \n",
       "0  ['CreateFileA', 'LocalAlloc', 'Sleep', 'Create...  \n",
       "1  ['CreateFileA', 'LocalAlloc', 'Sleep', 'Create...  \n",
       "2  ['LoadLibraryA', 'ExitProcess', 'GetProcAddres...  \n",
       "3  ['LoadLibraryA', 'ExitProcess', 'GetProcAddres...  \n",
       "4  ['RegSaveKeyA', 'BitBlt', 'LoadLibraryA', 'Get...  \n",
       "\n",
       "[5 rows x 21 columns]"
      ]
     },
     "execution_count": 4,
     "metadata": {},
     "output_type": "execute_result"
    }
   ],
   "source": [
    "df.head()"
   ]
  },
  {
   "cell_type": "code",
   "execution_count": 5,
   "id": "b3aa75ed",
   "metadata": {},
   "outputs": [
    {
     "data": {
      "text/html": [
       "<div>\n",
       "<style scoped>\n",
       "    .dataframe tbody tr th:only-of-type {\n",
       "        vertical-align: middle;\n",
       "    }\n",
       "\n",
       "    .dataframe tbody tr th {\n",
       "        vertical-align: top;\n",
       "    }\n",
       "\n",
       "    .dataframe thead th {\n",
       "        text-align: right;\n",
       "    }\n",
       "</style>\n",
       "<table border=\"1\" class=\"dataframe\">\n",
       "  <thead>\n",
       "    <tr style=\"text-align: right;\">\n",
       "      <th></th>\n",
       "      <th>DebugSize</th>\n",
       "      <th>DebugRVA</th>\n",
       "      <th>ImageVersion</th>\n",
       "      <th>OSVersion</th>\n",
       "      <th>ExportRVA</th>\n",
       "      <th>ExportSize</th>\n",
       "      <th>IATRVA</th>\n",
       "      <th>ResSize</th>\n",
       "      <th>LinkerVersion</th>\n",
       "      <th>NumberOfSections</th>\n",
       "      <th>StackReserveSize</th>\n",
       "      <th>Dll</th>\n",
       "      <th>AddressOfEntryPoint</th>\n",
       "      <th>ImageBase</th>\n",
       "      <th>NumberOfImportDLL</th>\n",
       "      <th>NumberOfImportFunctions</th>\n",
       "    </tr>\n",
       "  </thead>\n",
       "  <tbody>\n",
       "    <tr>\n",
       "      <th>count</th>\n",
       "      <td>40.0</td>\n",
       "      <td>40.0</td>\n",
       "      <td>40.0</td>\n",
       "      <td>40.0</td>\n",
       "      <td>40.000000</td>\n",
       "      <td>40.000000</td>\n",
       "      <td>40.000000</td>\n",
       "      <td>40.000000</td>\n",
       "      <td>40.0</td>\n",
       "      <td>40.000000</td>\n",
       "      <td>40.0</td>\n",
       "      <td>40.0</td>\n",
       "      <td>4.000000e+01</td>\n",
       "      <td>4.000000e+01</td>\n",
       "      <td>40.000000</td>\n",
       "      <td>40.000000</td>\n",
       "    </tr>\n",
       "    <tr>\n",
       "      <th>mean</th>\n",
       "      <td>0.0</td>\n",
       "      <td>0.0</td>\n",
       "      <td>0.0</td>\n",
       "      <td>4.0</td>\n",
       "      <td>95031.900000</td>\n",
       "      <td>22.000000</td>\n",
       "      <td>3276.800000</td>\n",
       "      <td>191.100000</td>\n",
       "      <td>6.0</td>\n",
       "      <td>3.025000</td>\n",
       "      <td>1048576.0</td>\n",
       "      <td>0.0</td>\n",
       "      <td>6.848401e+08</td>\n",
       "      <td>3.722445e+07</td>\n",
       "      <td>5.875000</td>\n",
       "      <td>23.775000</td>\n",
       "    </tr>\n",
       "    <tr>\n",
       "      <th>std</th>\n",
       "      <td>0.0</td>\n",
       "      <td>0.0</td>\n",
       "      <td>0.0</td>\n",
       "      <td>0.0</td>\n",
       "      <td>255470.205254</td>\n",
       "      <td>58.948043</td>\n",
       "      <td>6637.088716</td>\n",
       "      <td>332.861394</td>\n",
       "      <td>0.0</td>\n",
       "      <td>0.158114</td>\n",
       "      <td>0.0</td>\n",
       "      <td>0.0</td>\n",
       "      <td>1.386328e+09</td>\n",
       "      <td>8.850283e+07</td>\n",
       "      <td>1.522271</td>\n",
       "      <td>31.027273</td>\n",
       "    </tr>\n",
       "    <tr>\n",
       "      <th>min</th>\n",
       "      <td>0.0</td>\n",
       "      <td>0.0</td>\n",
       "      <td>0.0</td>\n",
       "      <td>4.0</td>\n",
       "      <td>0.000000</td>\n",
       "      <td>0.000000</td>\n",
       "      <td>0.000000</td>\n",
       "      <td>0.000000</td>\n",
       "      <td>6.0</td>\n",
       "      <td>3.000000</td>\n",
       "      <td>1048576.0</td>\n",
       "      <td>0.0</td>\n",
       "      <td>2.763200e+04</td>\n",
       "      <td>4.194304e+06</td>\n",
       "      <td>4.000000</td>\n",
       "      <td>7.000000</td>\n",
       "    </tr>\n",
       "    <tr>\n",
       "      <th>25%</th>\n",
       "      <td>0.0</td>\n",
       "      <td>0.0</td>\n",
       "      <td>0.0</td>\n",
       "      <td>4.0</td>\n",
       "      <td>0.000000</td>\n",
       "      <td>0.000000</td>\n",
       "      <td>0.000000</td>\n",
       "      <td>0.000000</td>\n",
       "      <td>6.0</td>\n",
       "      <td>3.000000</td>\n",
       "      <td>1048576.0</td>\n",
       "      <td>0.0</td>\n",
       "      <td>2.806400e+04</td>\n",
       "      <td>4.194304e+06</td>\n",
       "      <td>5.000000</td>\n",
       "      <td>8.000000</td>\n",
       "    </tr>\n",
       "    <tr>\n",
       "      <th>50%</th>\n",
       "      <td>0.0</td>\n",
       "      <td>0.0</td>\n",
       "      <td>0.0</td>\n",
       "      <td>4.0</td>\n",
       "      <td>0.000000</td>\n",
       "      <td>0.000000</td>\n",
       "      <td>0.000000</td>\n",
       "      <td>88.000000</td>\n",
       "      <td>6.0</td>\n",
       "      <td>3.000000</td>\n",
       "      <td>1048576.0</td>\n",
       "      <td>0.0</td>\n",
       "      <td>2.806400e+04</td>\n",
       "      <td>4.194304e+06</td>\n",
       "      <td>5.000000</td>\n",
       "      <td>8.000000</td>\n",
       "    </tr>\n",
       "    <tr>\n",
       "      <th>75%</th>\n",
       "      <td>0.0</td>\n",
       "      <td>0.0</td>\n",
       "      <td>0.0</td>\n",
       "      <td>4.0</td>\n",
       "      <td>0.000000</td>\n",
       "      <td>0.000000</td>\n",
       "      <td>0.000000</td>\n",
       "      <td>88.000000</td>\n",
       "      <td>6.0</td>\n",
       "      <td>3.000000</td>\n",
       "      <td>1048576.0</td>\n",
       "      <td>0.0</td>\n",
       "      <td>2.042528e+06</td>\n",
       "      <td>4.194304e+06</td>\n",
       "      <td>7.000000</td>\n",
       "      <td>11.250000</td>\n",
       "    </tr>\n",
       "    <tr>\n",
       "      <th>max</th>\n",
       "      <td>0.0</td>\n",
       "      <td>0.0</td>\n",
       "      <td>0.0</td>\n",
       "      <td>4.0</td>\n",
       "      <td>807356.000000</td>\n",
       "      <td>176.000000</td>\n",
       "      <td>16384.000000</td>\n",
       "      <td>1032.000000</td>\n",
       "      <td>6.0</td>\n",
       "      <td>4.000000</td>\n",
       "      <td>1048576.0</td>\n",
       "      <td>0.0</td>\n",
       "      <td>3.422618e+09</td>\n",
       "      <td>2.684355e+08</td>\n",
       "      <td>9.000000</td>\n",
       "      <td>85.000000</td>\n",
       "    </tr>\n",
       "  </tbody>\n",
       "</table>\n",
       "</div>"
      ],
      "text/plain": [
       "       DebugSize  DebugRVA  ImageVersion  OSVersion      ExportRVA  \\\n",
       "count       40.0      40.0          40.0       40.0      40.000000   \n",
       "mean         0.0       0.0           0.0        4.0   95031.900000   \n",
       "std          0.0       0.0           0.0        0.0  255470.205254   \n",
       "min          0.0       0.0           0.0        4.0       0.000000   \n",
       "25%          0.0       0.0           0.0        4.0       0.000000   \n",
       "50%          0.0       0.0           0.0        4.0       0.000000   \n",
       "75%          0.0       0.0           0.0        4.0       0.000000   \n",
       "max          0.0       0.0           0.0        4.0  807356.000000   \n",
       "\n",
       "       ExportSize        IATRVA      ResSize  LinkerVersion  NumberOfSections  \\\n",
       "count   40.000000     40.000000    40.000000           40.0         40.000000   \n",
       "mean    22.000000   3276.800000   191.100000            6.0          3.025000   \n",
       "std     58.948043   6637.088716   332.861394            0.0          0.158114   \n",
       "min      0.000000      0.000000     0.000000            6.0          3.000000   \n",
       "25%      0.000000      0.000000     0.000000            6.0          3.000000   \n",
       "50%      0.000000      0.000000    88.000000            6.0          3.000000   \n",
       "75%      0.000000      0.000000    88.000000            6.0          3.000000   \n",
       "max    176.000000  16384.000000  1032.000000            6.0          4.000000   \n",
       "\n",
       "       StackReserveSize   Dll  AddressOfEntryPoint     ImageBase  \\\n",
       "count              40.0  40.0         4.000000e+01  4.000000e+01   \n",
       "mean          1048576.0   0.0         6.848401e+08  3.722445e+07   \n",
       "std                 0.0   0.0         1.386328e+09  8.850283e+07   \n",
       "min           1048576.0   0.0         2.763200e+04  4.194304e+06   \n",
       "25%           1048576.0   0.0         2.806400e+04  4.194304e+06   \n",
       "50%           1048576.0   0.0         2.806400e+04  4.194304e+06   \n",
       "75%           1048576.0   0.0         2.042528e+06  4.194304e+06   \n",
       "max           1048576.0   0.0         3.422618e+09  2.684355e+08   \n",
       "\n",
       "       NumberOfImportDLL  NumberOfImportFunctions  \n",
       "count          40.000000                40.000000  \n",
       "mean            5.875000                23.775000  \n",
       "std             1.522271                31.027273  \n",
       "min             4.000000                 7.000000  \n",
       "25%             5.000000                 8.000000  \n",
       "50%             5.000000                 8.000000  \n",
       "75%             7.000000                11.250000  \n",
       "max             9.000000                85.000000  "
      ]
     },
     "execution_count": 5,
     "metadata": {},
     "output_type": "execute_result"
    }
   ],
   "source": [
    "df.describe()"
   ]
  },
  {
   "cell_type": "code",
   "execution_count": 6,
   "id": "8586d21e",
   "metadata": {
    "scrolled": true
   },
   "outputs": [
    {
     "data": {
      "text/plain": [
       "8     18\n",
       "85     8\n",
       "7      6\n",
       "10     5\n",
       "12     2\n",
       "11     1\n",
       "Name: NumberOfImportFunctions, dtype: int64"
      ]
     },
     "execution_count": 6,
     "metadata": {},
     "output_type": "execute_result"
    }
   ],
   "source": [
    "df[\"NumberOfImportFunctions\"].value_counts()"
   ]
  },
  {
   "cell_type": "code",
   "execution_count": 7,
   "id": "37254702",
   "metadata": {},
   "outputs": [],
   "source": [
    "df.drop([\"Unnamed: 0\",\"filename\",\"ImportedDLL\",\"SectionNames\",\"ImportedFunctions\"],axis = 1, inplace= True)"
   ]
  },
  {
   "cell_type": "code",
   "execution_count": 8,
   "id": "bacd2933",
   "metadata": {},
   "outputs": [
    {
     "data": {
      "text/html": [
       "<div>\n",
       "<style scoped>\n",
       "    .dataframe tbody tr th:only-of-type {\n",
       "        vertical-align: middle;\n",
       "    }\n",
       "\n",
       "    .dataframe tbody tr th {\n",
       "        vertical-align: top;\n",
       "    }\n",
       "\n",
       "    .dataframe thead th {\n",
       "        text-align: right;\n",
       "    }\n",
       "</style>\n",
       "<table border=\"1\" class=\"dataframe\">\n",
       "  <thead>\n",
       "    <tr style=\"text-align: right;\">\n",
       "      <th></th>\n",
       "      <th>DebugSize</th>\n",
       "      <th>DebugRVA</th>\n",
       "      <th>ImageVersion</th>\n",
       "      <th>OSVersion</th>\n",
       "      <th>ExportRVA</th>\n",
       "      <th>ExportSize</th>\n",
       "      <th>IATRVA</th>\n",
       "      <th>ResSize</th>\n",
       "      <th>LinkerVersion</th>\n",
       "      <th>NumberOfSections</th>\n",
       "      <th>StackReserveSize</th>\n",
       "      <th>Dll</th>\n",
       "      <th>AddressOfEntryPoint</th>\n",
       "      <th>ImageBase</th>\n",
       "      <th>NumberOfImportDLL</th>\n",
       "      <th>NumberOfImportFunctions</th>\n",
       "    </tr>\n",
       "  </thead>\n",
       "  <tbody>\n",
       "    <tr>\n",
       "      <th>0</th>\n",
       "      <td>0</td>\n",
       "      <td>0</td>\n",
       "      <td>0</td>\n",
       "      <td>4</td>\n",
       "      <td>0</td>\n",
       "      <td>0</td>\n",
       "      <td>16384</td>\n",
       "      <td>0</td>\n",
       "      <td>6</td>\n",
       "      <td>3</td>\n",
       "      <td>1048576</td>\n",
       "      <td>0</td>\n",
       "      <td>3422617582</td>\n",
       "      <td>4194304</td>\n",
       "      <td>7</td>\n",
       "      <td>85</td>\n",
       "    </tr>\n",
       "    <tr>\n",
       "      <th>1</th>\n",
       "      <td>0</td>\n",
       "      <td>0</td>\n",
       "      <td>0</td>\n",
       "      <td>4</td>\n",
       "      <td>0</td>\n",
       "      <td>0</td>\n",
       "      <td>16384</td>\n",
       "      <td>0</td>\n",
       "      <td>6</td>\n",
       "      <td>3</td>\n",
       "      <td>1048576</td>\n",
       "      <td>0</td>\n",
       "      <td>3422617582</td>\n",
       "      <td>4194304</td>\n",
       "      <td>7</td>\n",
       "      <td>85</td>\n",
       "    </tr>\n",
       "    <tr>\n",
       "      <th>2</th>\n",
       "      <td>0</td>\n",
       "      <td>0</td>\n",
       "      <td>0</td>\n",
       "      <td>4</td>\n",
       "      <td>0</td>\n",
       "      <td>0</td>\n",
       "      <td>0</td>\n",
       "      <td>88</td>\n",
       "      <td>6</td>\n",
       "      <td>3</td>\n",
       "      <td>1048576</td>\n",
       "      <td>0</td>\n",
       "      <td>27632</td>\n",
       "      <td>4194304</td>\n",
       "      <td>4</td>\n",
       "      <td>7</td>\n",
       "    </tr>\n",
       "    <tr>\n",
       "      <th>3</th>\n",
       "      <td>0</td>\n",
       "      <td>0</td>\n",
       "      <td>0</td>\n",
       "      <td>4</td>\n",
       "      <td>0</td>\n",
       "      <td>0</td>\n",
       "      <td>0</td>\n",
       "      <td>88</td>\n",
       "      <td>6</td>\n",
       "      <td>3</td>\n",
       "      <td>1048576</td>\n",
       "      <td>0</td>\n",
       "      <td>28048</td>\n",
       "      <td>4194304</td>\n",
       "      <td>5</td>\n",
       "      <td>8</td>\n",
       "    </tr>\n",
       "    <tr>\n",
       "      <th>4</th>\n",
       "      <td>0</td>\n",
       "      <td>0</td>\n",
       "      <td>0</td>\n",
       "      <td>4</td>\n",
       "      <td>807356</td>\n",
       "      <td>176</td>\n",
       "      <td>0</td>\n",
       "      <td>0</td>\n",
       "      <td>6</td>\n",
       "      <td>3</td>\n",
       "      <td>1048576</td>\n",
       "      <td>0</td>\n",
       "      <td>804624</td>\n",
       "      <td>268435456</td>\n",
       "      <td>8</td>\n",
       "      <td>10</td>\n",
       "    </tr>\n",
       "  </tbody>\n",
       "</table>\n",
       "</div>"
      ],
      "text/plain": [
       "   DebugSize  DebugRVA  ImageVersion  OSVersion  ExportRVA  ExportSize  \\\n",
       "0          0         0             0          4          0           0   \n",
       "1          0         0             0          4          0           0   \n",
       "2          0         0             0          4          0           0   \n",
       "3          0         0             0          4          0           0   \n",
       "4          0         0             0          4     807356         176   \n",
       "\n",
       "   IATRVA  ResSize  LinkerVersion  NumberOfSections  StackReserveSize  Dll  \\\n",
       "0   16384        0              6                 3           1048576    0   \n",
       "1   16384        0              6                 3           1048576    0   \n",
       "2       0       88              6                 3           1048576    0   \n",
       "3       0       88              6                 3           1048576    0   \n",
       "4       0        0              6                 3           1048576    0   \n",
       "\n",
       "   AddressOfEntryPoint  ImageBase  NumberOfImportDLL  NumberOfImportFunctions  \n",
       "0           3422617582    4194304                  7                       85  \n",
       "1           3422617582    4194304                  7                       85  \n",
       "2                27632    4194304                  4                        7  \n",
       "3                28048    4194304                  5                        8  \n",
       "4               804624  268435456                  8                       10  "
      ]
     },
     "execution_count": 8,
     "metadata": {},
     "output_type": "execute_result"
    }
   ],
   "source": [
    "df.head()"
   ]
  },
  {
   "cell_type": "code",
   "execution_count": 9,
   "id": "02d7a569",
   "metadata": {
    "scrolled": true
   },
   "outputs": [],
   "source": [
    "df.drop([\"DebugSize\",\"DebugRVA\",\"ImageVersion\",\"OSVersion\",\"LinkerVersion\",\"StackReserveSize\",\"Dll\"],axis =1, inplace = True)"
   ]
  },
  {
   "cell_type": "code",
   "execution_count": 10,
   "id": "7893e161",
   "metadata": {
    "scrolled": true
   },
   "outputs": [
    {
     "name": "stdout",
     "output_type": "stream",
     "text": [
      "<class 'pandas.core.frame.DataFrame'>\n",
      "RangeIndex: 40 entries, 0 to 39\n",
      "Data columns (total 9 columns):\n",
      " #   Column                   Non-Null Count  Dtype\n",
      "---  ------                   --------------  -----\n",
      " 0   ExportRVA                40 non-null     int64\n",
      " 1   ExportSize               40 non-null     int64\n",
      " 2   IATRVA                   40 non-null     int64\n",
      " 3   ResSize                  40 non-null     int64\n",
      " 4   NumberOfSections         40 non-null     int64\n",
      " 5   AddressOfEntryPoint      40 non-null     int64\n",
      " 6   ImageBase                40 non-null     int64\n",
      " 7   NumberOfImportDLL        40 non-null     int64\n",
      " 8   NumberOfImportFunctions  40 non-null     int64\n",
      "dtypes: int64(9)\n",
      "memory usage: 2.9 KB\n"
     ]
    }
   ],
   "source": [
    "df.info()"
   ]
  },
  {
   "cell_type": "code",
   "execution_count": 30,
   "id": "7a605730",
   "metadata": {},
   "outputs": [
    {
     "name": "stdout",
     "output_type": "stream",
     "text": [
      "0         35\n",
      "807356     3\n",
      "689604     2\n",
      "Name: ExportRVA, dtype: int64\n",
      "0      35\n",
      "176     5\n",
      "Name: ExportSize, dtype: int64\n",
      "0        32\n",
      "16384     8\n",
      "Name: IATRVA, dtype: int64\n",
      "88      21\n",
      "0       13\n",
      "908      3\n",
      "1020     2\n",
      "1032     1\n",
      "Name: ResSize, dtype: int64\n",
      "3    39\n",
      "4     1\n",
      "Name: NumberOfSections, dtype: int64\n",
      "28064         12\n",
      "3422617582     8\n",
      "27632          6\n",
      "28048          3\n",
      "2042528        3\n",
      "804624         2\n",
      "775248         2\n",
      "684768         1\n",
      "614704         1\n",
      "684672         1\n",
      "804608         1\n",
      "Name: AddressOfEntryPoint, dtype: int64\n",
      "4194304      35\n",
      "268435456     5\n",
      "Name: ImageBase, dtype: int64\n",
      "5    18\n",
      "7     7\n",
      "4     6\n",
      "8     6\n",
      "9     2\n",
      "6     1\n",
      "Name: NumberOfImportDLL, dtype: int64\n",
      "8     18\n",
      "85     8\n",
      "7      6\n",
      "10     5\n",
      "12     2\n",
      "11     1\n",
      "Name: NumberOfImportFunctions, dtype: int64\n"
     ]
    }
   ],
   "source": [
    "for column in list(df.columns):\n",
    "    print(df[column].value_counts())"
   ]
  },
  {
   "cell_type": "markdown",
   "id": "c5fe9bed",
   "metadata": {},
   "source": [
    "Procedemos a ignorar las caracteristicas que poseem muchos valores similares"
   ]
  },
  {
   "cell_type": "code",
   "execution_count": 50,
   "id": "516fb599",
   "metadata": {},
   "outputs": [
    {
     "data": {
      "text/plain": [
       "array([[ 0.74844237,  1.99840211, -0.37796447,  1.99999984, -0.58142667],\n",
       "       [ 0.74844237,  1.99840211, -0.37796447,  1.99999984, -0.58142667],\n",
       "       [-1.24740394, -0.54754096, -0.37796447, -0.50026885, -0.31368441],\n",
       "       [-0.58212184, -0.51490067, -0.37796447, -0.50026855, -0.31368441],\n",
       "       [ 1.41372447, -0.44962007,  2.64575131, -0.49970124, -0.58142667],\n",
       "       [-0.58212184, -0.51490067, -0.37796447, -0.50026853, -0.31368441],\n",
       "       [ 0.74844237,  1.99840211, -0.37796447,  1.99999984, -0.58142667],\n",
       "       [ 0.74844237,  1.99840211, -0.37796447,  1.99999984, -0.58142667],\n",
       "       [ 1.41372447, -0.44962007,  2.64575131, -0.4997888 ,  2.5219496 ],\n",
       "       [-1.24740394, -0.54754096, -0.37796447, -0.50026885, -0.31368441],\n",
       "       [-0.58212184, -0.51490067, -0.37796447, -0.50026853, -0.31368441],\n",
       "       [-1.24740394, -0.54754096, -0.37796447, -0.50026885, -0.31368441],\n",
       "       [ 1.41372447, -0.41697978, -0.37796447, -0.49983998, -0.58142667],\n",
       "       [ 0.74844237,  1.99840211, -0.37796447,  1.99999984, -0.58142667],\n",
       "       [-1.24740394, -0.54754096, -0.37796447, -0.50026885, -0.31368441],\n",
       "       [-0.58212184, -0.51490067, -0.37796447, -0.50026853, -0.31368441],\n",
       "       [ 1.41372447, -0.44962007,  2.64575131, -0.49978887,  2.5219496 ],\n",
       "       [-0.58212184, -0.51490067, -0.37796447, -0.50026855, -0.31368441],\n",
       "       [-1.24740394, -0.54754096, -0.37796447, -0.50026885, -0.31368441],\n",
       "       [-0.58212184, -0.51490067, -0.37796447, -0.50026855, -0.31368441],\n",
       "       [ 0.08316026,  1.99840211, -0.37796447,  1.99999984,  2.55845991],\n",
       "       [ 2.07900657, -0.38433948, -0.37796447, -0.4997227 , -0.58142667],\n",
       "       [-1.24740394, -0.54754096, -0.37796447, -0.50026885, -0.31368441],\n",
       "       [-0.58212184, -0.51490067, -0.37796447, -0.50026853, -0.31368441],\n",
       "       [-0.58212184, -0.51490067, -0.37796447, -0.49879693,  2.18118672],\n",
       "       [ 2.07900657, -0.38433948, -0.37796447, -0.4997227 , -0.58142667],\n",
       "       [ 1.41372447, -0.44962007,  2.64575131, -0.49970125, -0.58142667],\n",
       "       [-0.58212184, -0.51490067, -0.37796447, -0.50026853, -0.31368441],\n",
       "       [ 0.74844237,  1.99840211, -0.37796447,  1.99999984, -0.58142667],\n",
       "       [-0.58212184, -0.51490067, -0.37796447, -0.50026853, -0.31368441],\n",
       "       [-0.58212184, -0.51490067, -0.37796447, -0.50026853, -0.31368441],\n",
       "       [-0.58212184, -0.51490067, -0.37796447, -0.50026853, -0.31368441],\n",
       "       [-0.58212184, -0.51490067, -0.37796447, -0.50026853, -0.31368441],\n",
       "       [-0.58212184, -0.51490067, -0.37796447, -0.50026853, -0.31368441],\n",
       "       [ 0.74844237,  1.99840211, -0.37796447,  1.99999984, -0.58142667],\n",
       "       [-0.58212184, -0.51490067, -0.37796447, -0.50026853, -0.31368441],\n",
       "       [ 1.41372447, -0.44962007,  2.64575131, -0.49970124, -0.58142667],\n",
       "       [-0.58212184, -0.51490067, -0.37796447, -0.49879693,  2.18118672],\n",
       "       [-0.58212184, -0.51490067, -0.37796447, -0.50026853, -0.31368441],\n",
       "       [-0.58212184, -0.51490067, -0.37796447, -0.49879693,  2.18118672]])"
      ]
     },
     "execution_count": 50,
     "metadata": {},
     "output_type": "execute_result"
    }
   ],
   "source": [
    "scaler = StandardScaler()\n",
    "scaled_df = scaler.fit_transform(df[[\"NumberOfImportDLL\",\"NumberOfImportFunctions\", \"ExportSize\",\"AddressOfEntryPoint\", \"ResSize\"]])\n",
    "\n",
    "scaled_df"
   ]
  },
  {
   "cell_type": "markdown",
   "id": "8fbea414",
   "metadata": {},
   "source": [
    "## Metodo del codo para identificar k"
   ]
  },
  {
   "cell_type": "code",
   "execution_count": 52,
   "id": "3962ad6c",
   "metadata": {},
   "outputs": [],
   "source": [
    "def calculate_WSS(points, kmax):\n",
    "  sse = []\n",
    "  for k in range(1, kmax+1):\n",
    "    kmeans = KMeans(\n",
    "        init = \"random\",\n",
    "        n_clusters = k,\n",
    "        n_init = 1,\n",
    "        max_iter = 200,\n",
    "        random_state = 123\n",
    "    ).fit(points)\n",
    "    centroids = kmeans.cluster_centers_\n",
    "    pred_clusters = kmeans.predict(points)\n",
    "    curr_sse = 0\n",
    "    \n",
    "    for i in range(len(points)):\n",
    "      curr_center = centroids[pred_clusters[i]]\n",
    "      curr_sse += (points[i, 0] - curr_center[0]) ** 2 + (points[i, 1] - curr_center[1]) ** 2\n",
    "      \n",
    "    sse.append(curr_sse)\n",
    "  return sse"
   ]
  },
  {
   "cell_type": "code",
   "execution_count": 67,
   "id": "92fe0575",
   "metadata": {},
   "outputs": [
    {
     "data": {
      "text/plain": [
       "<matplotlib.collections.PathCollection at 0x7f4c604e1970>"
      ]
     },
     "execution_count": 67,
     "metadata": {},
     "output_type": "execute_result"
    },
    {
     "data": {
      "image/png": "[encoded data removed]",
      "text/plain": [
       "<Figure size 432x288 with 1 Axes>"
      ]
     },
     "metadata": {
      "needs_background": "light"
     },
     "output_type": "display_data"
    }
   ],
   "source": [
    "wss = calculate_WSS(scaled_df,11)\n",
    "k = [1,2,3,4,5,6,7,8,9,10,11]\n",
    "plt.scatter(k[:], wss[:])"
   ]
  },
  {
   "cell_type": "code",
   "execution_count": 63,
   "id": "a2e92681",
   "metadata": {
    "scrolled": true
   },
   "outputs": [],
   "source": [
    "from sklearn.metrics import silhouette_score\n",
    "\n",
    "sil = []\n",
    "kmax = 12\n",
    "\n",
    "for k in range (2, kmax+1):\n",
    "  kmeans = KMeans(\n",
    "        init = \"random\",\n",
    "        n_clusters = k,\n",
    "        n_init = 1,\n",
    "        max_iter = 200,\n",
    "        random_state = 123\n",
    "    ).fit(df.to_numpy())\n",
    "  etiquetas = kmeans.labels_\n",
    "  sil.append(silhouette_score(scaled_df, etiquetas, metric = 'euclidean'))"
   ]
  },
  {
   "cell_type": "code",
   "execution_count": 64,
   "id": "8c72a4a7",
   "metadata": {
    "scrolled": true
   },
   "outputs": [
    {
     "name": "stdout",
     "output_type": "stream",
     "text": [
      "[1, 2, 3, 4, 5, 6, 7, 8, 9, 10, 11]\n"
     ]
    },
    {
     "data": {
      "text/plain": [
       "<matplotlib.collections.PathCollection at 0x7f4c6063d550>"
      ]
     },
     "execution_count": 64,
     "metadata": {},
     "output_type": "execute_result"
    },
    {
     "data": {
      "image/png": "[encoded data removed]",
      "text/plain": [
       "<Figure size 432x288 with 1 Axes>"
      ]
     },
     "metadata": {
      "needs_background": "light"
     },
     "output_type": "display_data"
    }
   ],
   "source": [
    "  k = [1,2,3,4,5,6,7,8,9,10,11]\n",
    "  print(k)\n",
    " \n",
    "  plt.scatter(k, sil)"
   ]
  },
  {
   "cell_type": "markdown",
   "id": "62b3fbf3",
   "metadata": {},
   "source": [
    "## Kmeans con k = 10"
   ]
  },
  {
   "cell_type": "code",
   "execution_count": 56,
   "id": "334eb711",
   "metadata": {},
   "outputs": [],
   "source": [
    "kmeans = KMeans(\n",
    "    init = \"random\",\n",
    "    n_clusters = 10,\n",
    "    n_init = 1,\n",
    "    max_iter = 200,\n",
    "    random_state = 123\n",
    ")"
   ]
  },
  {
   "cell_type": "code",
   "execution_count": 57,
   "id": "2e54eb13",
   "metadata": {},
   "outputs": [
    {
     "data": {
      "text/plain": [
       "KMeans(init='random', max_iter=200, n_clusters=10, n_init=1, random_state=123)"
      ]
     },
     "execution_count": 57,
     "metadata": {},
     "output_type": "execute_result"
    }
   ],
   "source": [
    "kmeans.fit(scaled_df)"
   ]
  },
  {
   "cell_type": "code",
   "execution_count": 58,
   "id": "22e8d6a2",
   "metadata": {},
   "outputs": [],
   "source": [
    "y_kmeans = kmeans.predict(scaled_df)"
   ]
  },
  {
   "cell_type": "code",
   "execution_count": 59,
   "id": "20ae8ff4",
   "metadata": {},
   "outputs": [
    {
     "data": {
      "image/png": "[encoded data removed]",
      "text/plain": [
       "<Figure size 432x288 with 1 Axes>"
      ]
     },
     "metadata": {
      "needs_background": "light"
     },
     "output_type": "display_data"
    }
   ],
   "source": [
    "plt.scatter(scaled_df[:,0], scaled_df[:,1], c=y_kmeans, s=50, cmap='viridis')\n",
    "\n",
    "\n",
    "centers = kmeans.cluster_centers_\n",
    "plt.scatter(centers[:, 0], centers[:, 1], c='red', s=200, alpha=0.5);\n"
   ]
  },
  {
   "cell_type": "markdown",
   "id": "f34ff855",
   "metadata": {},
   "source": [
    "## Conclusiones"
   ]
  },
  {
   "cell_type": "markdown",
   "id": "d930fd6a",
   "metadata": {},
   "source": [
    "Como se puede apreciar el metodo del codo y el metodo de los coeficientes de sillhouete no tienen el mismo valor, el metodo del codo nos da un codo de 3 mientras que los coeficientes tienen un valor mas alto en 10, visto que analizar los resultados es dificil ya que estamos hablando de 5 dimensiones, se escogio entonces ir por el coeficiente de sillhouete ya que es un metodo mas confiable. Entonces concluimos que el conjunto tiene 10 tipos de malwares distintos"
   ]
  }
 ],
 "metadata": {
  "kernelspec": {
   "display_name": "Python 3 (ipykernel)",
   "language": "python",
   "name": "python3"
  },
  "language_info": {
   "codemirror_mode": {
    "name": "ipython",
    "version": 3
   },
   "file_extension": ".py",
   "mimetype": "text/x-python",
   "name": "python",
   "nbconvert_exporter": "python",
   "pygments_lexer": "ipython3",
   "version": "3.8.10"
  }
 },
 "nbformat": 4,
 "nbformat_minor": 5
}
